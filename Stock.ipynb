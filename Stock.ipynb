{
  "nbformat": 4,
  "nbformat_minor": 0,
  "metadata": {
    "colab": {
      "provenance": [],
      "authorship_tag": "ABX9TyN8b8ChoOQc9eEJXlrv5I4l",
      "include_colab_link": true
    },
    "kernelspec": {
      "name": "python3",
      "display_name": "Python 3"
    },
    "language_info": {
      "name": "python"
    }
  },
  "cells": [
    {
      "cell_type": "markdown",
      "metadata": {
        "id": "view-in-github",
        "colab_type": "text"
      },
      "source": [
        "<a href=\"https://colab.research.google.com/github/LeijinZ/stockInformation/blob/main/Stock.ipynb\" target=\"_parent\"><img src=\"https://colab.research.google.com/assets/colab-badge.svg\" alt=\"Open In Colab\"/></a>"
      ]
    },
    {
      "cell_type": "code",
      "source": [
        "%pip install numpy scikit-learn statsmodels"
      ],
      "metadata": {
        "colab": {
          "base_uri": "https://localhost:8080/"
        },
        "id": "Un5btRlzFcRk",
        "outputId": "a165b728-d1ac-430d-d875-1649b856bcb9"
      },
      "execution_count": 18,
      "outputs": [
        {
          "output_type": "stream",
          "name": "stdout",
          "text": [
            "Requirement already satisfied: numpy in /usr/local/lib/python3.10/dist-packages (1.25.2)\n",
            "Requirement already satisfied: scikit-learn in /usr/local/lib/python3.10/dist-packages (1.2.2)\n",
            "Requirement already satisfied: statsmodels in /usr/local/lib/python3.10/dist-packages (0.14.1)\n",
            "Requirement already satisfied: scipy>=1.3.2 in /usr/local/lib/python3.10/dist-packages (from scikit-learn) (1.11.4)\n",
            "Requirement already satisfied: joblib>=1.1.1 in /usr/local/lib/python3.10/dist-packages (from scikit-learn) (1.3.2)\n",
            "Requirement already satisfied: threadpoolctl>=2.0.0 in /usr/local/lib/python3.10/dist-packages (from scikit-learn) (3.4.0)\n",
            "Requirement already satisfied: pandas!=2.1.0,>=1.0 in /usr/local/lib/python3.10/dist-packages (from statsmodels) (2.0.3)\n",
            "Requirement already satisfied: patsy>=0.5.4 in /usr/local/lib/python3.10/dist-packages (from statsmodels) (0.5.6)\n",
            "Requirement already satisfied: packaging>=21.3 in /usr/local/lib/python3.10/dist-packages (from statsmodels) (24.0)\n",
            "Requirement already satisfied: python-dateutil>=2.8.2 in /usr/local/lib/python3.10/dist-packages (from pandas!=2.1.0,>=1.0->statsmodels) (2.8.2)\n",
            "Requirement already satisfied: pytz>=2020.1 in /usr/local/lib/python3.10/dist-packages (from pandas!=2.1.0,>=1.0->statsmodels) (2023.4)\n",
            "Requirement already satisfied: tzdata>=2022.1 in /usr/local/lib/python3.10/dist-packages (from pandas!=2.1.0,>=1.0->statsmodels) (2024.1)\n",
            "Requirement already satisfied: six in /usr/local/lib/python3.10/dist-packages (from patsy>=0.5.4->statsmodels) (1.16.0)\n"
          ]
        }
      ]
    },
    {
      "cell_type": "code",
      "execution_count": 5,
      "metadata": {
        "id": "KM7Pu33gy5by"
      },
      "outputs": [],
      "source": [
        "import numpy as np\n",
        "import yfinance as yf\n",
        "import pandas as pd\n",
        "from sklearn.linear_model import LinearRegression\n",
        "import matplotlib.pyplot as plt\n",
        "import sys\n",
        "\n",
        "#Get Stock Ticker\n",
        "def stockValid(stockTicker):\n",
        "\n",
        "  #Name and check if valid\n",
        "  stock = yf.Ticker(stockTicker)\n",
        "  info = stock.info\n",
        "  print(\"\\nCompany Name: \" + info[\"shortName\"])\n",
        "  print(\"Industry: \" + info[\"industry\"])\n",
        "  print(\"Sector: \" + info[\"sector\"] + \"\\n\")\n",
        "  return stock\n",
        "\n",
        "#Stock Plot 1 Year\n",
        "def plot(p, stockTicker, stock):\n",
        "  name = stock.info[\"shortName\"]\n",
        "  data = yf.download(stockTicker, period=p)\n",
        "  data['Close'].plot()\n",
        "  plt.title(name + \" Stock Prices\")\n",
        "  plt.show()\n",
        "\n",
        "#Linear Regression Machine Learning\n",
        "  model = LinearRegression()\n",
        "  X = data['Close'].index.factorize()[0].reshape(-1,1)\n",
        "  Y = data['Close'].values\n",
        "  model.fit(X,Y)\n",
        "  print(f\"\\nslope of prediction: {model.coef_}\")\n",
        "  y_pred = model.predict(X)\n",
        "\n",
        "#Machine Learning Plot\n",
        "  d = {'date': y_pred}\n",
        "  df = pd.DataFrame(data=d)\n",
        "  df.plot()\n",
        "  ax = plt.gca ()\n",
        "  ax.set_ylim([min(y_pred)-25, max(y_pred) +25])\n",
        "  plt.title(name + \" Stock Prediction\")\n",
        "  plt.show()\n",
        "\n",
        "#Financial Statement, Balance Sheet, and Cashflow\n",
        "def financialStatement(stock):\n",
        "  fStatement = stock.financials\n",
        "  print(\"Would you like download the Financial Statement as Excel?\")\n",
        "  answer = input(\"Yes, No \\n\")\n",
        "\n",
        "  while(answer != \"Yes\" and answer != \"No\"):\n",
        "    print(\"Please enter a valid answer.\")\n",
        "    answer = input(\"Yes, No \\n\")\n",
        "  if(answer == \"Yes\"):\n",
        "    fStatement.to_excel(\"Financial_Statement.xlsx\")\n",
        "  else:\n",
        "    print(fStatement)\n",
        "\n",
        "\n",
        "def balanceSheet(stock):\n",
        "  bSheet = stock.balancesheet\n",
        "  print(\"Would you like download the Balance Sheet as Excel?\")\n",
        "  answer = input(\"Yes, No \\n\")\n",
        "  while(answer != \"Yes\" and answer != \"No\"):\n",
        "    print(\"Please enter a valid answer.\")\n",
        "    answer = input(\"Yes, No \\n\")\n",
        "  if(answer == \"Yes\"):\n",
        "    bSheet.to_excel(\"Balance_Sheet.xlsx\")\n",
        "  else:\n",
        "    print(bSheet)\n",
        "\n",
        "def cashflow(stock):\n",
        "  cFlow = stock.cashflow\n",
        "  print(\"Would you like download the Cash Flow as Excel?\")\n",
        "  answer = input(\"Yes, No \\n\")\n",
        "\n",
        "  while(answer != \"Yes\" and answer != \"No\"):\n",
        "    print(\"Please enter a valid answer.\")\n",
        "    answer = input(\"Yes, No \\n\")\n",
        "  if(answer == \"Yes\"):\n",
        "    cFlow.to_excel(\"Cashflow.xlsx\")\n",
        "  else:\n",
        "    print(cFlow)\n",
        "\n",
        "#get Simple Information about stock on yahoo finance\n",
        "def simpleInfo(stock):\n",
        "  print(stock.info)"
      ]
    },
    {
      "cell_type": "code",
      "source": [
        "print(\"Please enter stock Ticker Symbol:\")\n",
        "#stockTicker = \"AAPL\"\n",
        "stockTicker = input()\n",
        "stockTicker = stockTicker.upper()\n",
        "stock = stockValid(stockTicker)\n",
        "\n",
        "\n",
        "def main(stock):\n",
        "\n",
        "  print(\"What info do you want to see from the stock?\")\n",
        "  print(\"1. Plot and Linear Regression \\n2. Financial Statement \\n3. Balance Sheet \\n4. Cashflow \\n5. Simple Info \\n6. Exit\")\n",
        "  answer = input()\n",
        "  while(answer != \"1\" and answer != \"2\" and answer != \"3\" and answer != \"4\" and answer != \"5\" and answer != \"6\"):\n",
        "    print(\"please enter a valid number.\")\n",
        "    answer = input()\n",
        "\n",
        "  if(answer == \"1\"):\n",
        "    print(\"What period do you want to see the stock? example: 1d, 5d, 3mo, 6mo, 12mo\")\n",
        "    p = input()\n",
        "    plot(p, stockTicker, stock)\n",
        "    main(stock)\n",
        "\n",
        "  elif(answer == \"2\"):\n",
        "    financialStatement(stock)\n",
        "    main(stock)\n",
        "\n",
        "  elif(answer == \"3\"):\n",
        "    balanceSheet(stock)\n",
        "    main(stock)\n",
        "\n",
        "  elif(answer == \"4\"):\n",
        "    cashflow(stock)\n",
        "    main(stock)\n",
        "\n",
        "  elif (answer == \"5\"):\n",
        "    simpleInfo(stock)\n",
        "    main(stock)\n",
        "\n",
        "  elif(answer == \"6\"):\n",
        "    sys.exit\n",
        "\n",
        "  else:\n",
        "    print(\"How did you get here????\")\n",
        "main(stock)"
      ],
      "metadata": {
        "colab": {
          "base_uri": "https://localhost:8080/"
        },
        "id": "w6covEO3R_kp",
        "outputId": "5ae4ac63-2c53-455f-9f67-374f4f0473e1"
      },
      "execution_count": 6,
      "outputs": [
        {
          "name": "stdout",
          "output_type": "stream",
          "text": [
            "Please enter stock Ticker Symbol:\n",
            "AAPL\n",
            "\n",
            "Company Name: Apple Inc.\n",
            "Industry: Consumer Electronics\n",
            "Sector: Technology\n",
            "\n",
            "What info do you want to see from the stock?\n",
            "1. Plot and Linear Regression \n",
            "2. Financial Statement \n",
            "3. Balance Sheet \n",
            "4. Cashflow \n",
            "5. Simple Info \n",
            "6. Exit\n",
            "2\n",
            "Would you like download the Financial Statement as Excel?\n",
            "Yes, No \n",
            "Yes\n",
            "What info do you want to see from the stock?\n",
            "1. Plot and Linear Regression \n",
            "2. Financial Statement \n",
            "3. Balance Sheet \n",
            "4. Cashflow \n",
            "5. Simple Info \n",
            "6. Exit\n",
            "3\n",
            "Would you like download the Balance Sheet as Excel?\n",
            "Yes, No \n",
            "Yes\n",
            "What info do you want to see from the stock?\n",
            "1. Plot and Linear Regression \n",
            "2. Financial Statement \n",
            "3. Balance Sheet \n",
            "4. Cashflow \n",
            "5. Simple Info \n",
            "6. Exit\n",
            "6\n"
          ]
        }
      ]
    },
    {
      "cell_type": "code",
      "source": [],
      "metadata": {
        "id": "8bWOOwhjao7N"
      },
      "execution_count": null,
      "outputs": []
    }
  ]
}